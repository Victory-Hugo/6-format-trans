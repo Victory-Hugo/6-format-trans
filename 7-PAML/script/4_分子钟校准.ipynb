{
 "cells": [
  {
   "cell_type": "code",
   "execution_count": 1,
   "id": "cee29ad0",
   "metadata": {},
   "outputs": [
    {
     "name": "stdout",
     "output_type": "stream",
     "text": [
      "转换完成，已保存至：/mnt/f/0_现代DNA处理流程/script/2_ML_MRCA/OUTPUT/ID_Time.tree\n"
     ]
    }
   ],
   "source": [
    "from Bio import Phylo\n",
    "\n",
    "# 文件路径及速率设置\n",
    "input_path = \"/mnt/f/0_现代DNA处理流程/script/2_ML_MRCA/OUTPUT/ID_Length.tree\"\n",
    "output_path = \"/mnt/f/0_现代DNA处理流程/script/2_ML_MRCA/OUTPUT/ID_Time.tree\"\n",
    "mutation_rate = 2.53e-8  # substitutions per site per year\n",
    "\n",
    "# 读取 Newick 格式树\n",
    "tree = Phylo.read(input_path, \"newick\")\n",
    "\n",
    "# 分支长度转换：time_years = branch_length / mutation_rate\n",
    "for clade in tree.find_clades():\n",
    "    if clade.branch_length is not None:\n",
    "        clade.branch_length = clade.branch_length / mutation_rate\n",
    "\n",
    "# 将转换后的树写回文件\n",
    "Phylo.write(tree, output_path, \"newick\")\n",
    "\n",
    "print(f\"转换完成，已保存至：{output_path}\")\n"
   ]
  },
  {
   "cell_type": "code",
   "execution_count": 2,
   "id": "71dd38cb",
   "metadata": {},
   "outputs": [
    {
     "name": "stdout",
     "output_type": "stream",
     "text": [
      "已添加 Time_years 列并覆盖原文件： /mnt/f/0_现代DNA处理流程/script/2_ML_MRCA/OUTPUT/TIP_Length.csv\n"
     ]
    }
   ],
   "source": [
    "import pandas as pd\n",
    "\n",
    "# 文件路径\n",
    "input_path = \"/mnt/f/0_现代DNA处理流程/script/2_ML_MRCA/OUTPUT/TIP_Length.csv\"\n",
    "\n",
    "# 读取 CSV\n",
    "df = pd.read_csv(input_path)\n",
    "\n",
    "# 突变率（substitutions per site per year）\n",
    "mu = 2.53e-8\n",
    "\n",
    "# 计算历时（年）并添加新列\n",
    "df['Time_years'] = df['Length'] / mu\n",
    "\n",
    "# 将结果写回原 CSV（覆盖源文件）\n",
    "df.to_csv(input_path, index=False)\n",
    "\n",
    "print(\"已添加 Time_years 列并覆盖原文件：\", input_path)\n"
   ]
  }
 ],
 "metadata": {
  "kernelspec": {
   "display_name": "base",
   "language": "python",
   "name": "python3"
  },
  "language_info": {
   "codemirror_mode": {
    "name": "ipython",
    "version": 3
   },
   "file_extension": ".py",
   "mimetype": "text/x-python",
   "name": "python",
   "nbconvert_exporter": "python",
   "pygments_lexer": "ipython3",
   "version": "3.12.9"
  }
 },
 "nbformat": 4,
 "nbformat_minor": 5
}
